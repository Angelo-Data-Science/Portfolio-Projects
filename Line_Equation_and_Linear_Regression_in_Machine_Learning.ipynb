{
  "nbformat": 4,
  "nbformat_minor": 0,
  "metadata": {
    "colab": {
      "provenance": [],
      "authorship_tag": "ABX9TyOkbYmB9MbSgakAByYw3MUU",
      "include_colab_link": true
    },
    "kernelspec": {
      "name": "python3",
      "display_name": "Python 3"
    },
    "language_info": {
      "name": "python"
    }
  },
  "cells": [
    {
      "cell_type": "markdown",
      "metadata": {
        "id": "view-in-github",
        "colab_type": "text"
      },
      "source": [
        "<a href=\"https://colab.research.google.com/github/Angelo-Data-Science/Portfolio-Projects/blob/main/Line_Equation_and_Linear_Regression_in_Machine_Learning.ipynb\" target=\"_parent\"><img src=\"https://colab.research.google.com/assets/colab-badge.svg\" alt=\"Open In Colab\"/></a>"
      ]
    },
    {
      "cell_type": "markdown",
      "source": [
        "# **Equation of a Line and Linear Regression in Machine Learning**\n",
        "\n",
        "*(Angelo de Assis)*\n",
        "<br>\n",
        "<br>\n",
        "The equation of a line is fundamental in linear regression. It is a widely used technique in machine learning for modeling the relationship between variables. Here we will cover the essential concepts of the line equation, its application in linear regression, and how it is used to make predictions.\n"
      ],
      "metadata": {
        "id": "VChXgEkAWybh"
      }
    },
    {
      "cell_type": "markdown",
      "source": [
        "## 1. **Concept of linear regression**\n",
        "Linear regression seeks to find the best-fitting line for a set of data, representing the relationship between a dependent variable *y* and one or more independent variables *x*. The basic equation of a line is as follows:\n",
        "\n",
        "*y = mx + b*\n",
        "\n",
        "where:\n",
        "- ***y*** is the dependent variable (what we want to predict);\n",
        "- ***x*** is the independent variable (what we use to make predictions);\n",
        "- ***m*** is the slope, which indicates the inclination of the line;\n",
        "- ***b*** is the y-intercept, which represents the value of **y** when ***x = 0***.\n"
      ],
      "metadata": {
        "id": "0B8PFLjHW9Ml"
      }
    },
    {
      "cell_type": "markdown",
      "source": [
        "## 2. **Interpretation of Coefficients**\n",
        "- **Slope (*m*)**: It indicates the expected change in *y* for each unit change in *x*. A positive value of *m* suggests a positive relationship between the variables, while a negative value suggests a negative relationship[[1]](https://eitca.org/artificial-intelligence/eitc-ai-mlp-machine-learning-with-python/programming-machine-learning/programming-the-best-fit-slope-programming-machine-learning/examination-review-programming-the-best-fit-slope-programming-machine-learning/what-is-the-equation-for-a-line-in-linear-regression/)[[2]](https://www.spiceworks.com/tech/artificial-intelligence/articles/what-is-linear-regression/).\n",
        "  \n",
        "\n",
        "- **Y-intercept (*b*)**: This value determines where the line crosses the *y*-axis. It is crucial for positioning the line on the graph[[1]](https://eitca.org/artificial-intelligence/eitc-ai-mlp-machine-learning-with-python/programming-machine-learning/programming-the-best-fit-slope-programming-machine-learning/examination-review-programming-the-best-fit-slope-programming-machine-learning/what-is-the-equation-for-a-line-in-linear-regression/).\n"
      ],
      "metadata": {
        "id": "yYT9Pu_sXEVR"
      }
    },
    {
      "cell_type": "markdown",
      "source": [
        "## 3. **Finding the Better Line**\n",
        "To determine the values of *m* and *b*, we employ the ordinary least squares (OLS) method, which minimizes the sum of squared differences between the observed values and the values predicted by the regression line. And the formula for the mean squared error (MSE) is:\n",
        "\n",
        "$$\n",
        "MSE = \\frac{1}{n} \\sum_{i=1}^{n} (y_i - \\hat{y}_i)^2\n",
        "$$\n",
        "\n",
        "where:\n",
        "- *n* is the total number of observations,\n",
        "- *yi* are the real values,\n",
        "- *^yi* are the values predicted by the line [[2]](/https://www.spiceworks.com/tech/artificial-intelligence/articles/what-is-linear-regression/) [[3]](https://www.geeksforgeeks.org/ml-linear-regression/).\n"
      ],
      "metadata": {
        "id": "PRn95KEGXLDB"
      }
    },
    {
      "cell_type": "markdown",
      "source": [
        "## 4. **Practical implementation**\n",
        "To implement linear regression in Python, you can use libraries like `scikit-learn`. The following is a basic example:"
      ],
      "metadata": {
        "id": "8haTdN9IXWBp"
      }
    },
    {
      "cell_type": "code",
      "source": [
        "# Importing libraries\n",
        "import numpy as np\n",
        "import matplotlib.pyplot as plt\n",
        "from sklearn.linear_model import LinearRegression"
      ],
      "metadata": {
        "id": "uybExJ7fgFnO"
      },
      "execution_count": 1,
      "outputs": []
    },
    {
      "cell_type": "code",
      "source": [
        "# Sample data\n",
        "X = np.array([1, 2, 3, 4, 5])  # independent variable\n",
        "X = X.reshape(-1, 1)\n",
        "y = np.array([2, 3, 5, 7, 11])  # dependent variable\n",
        "sizes = np.array([15, 30, 45, 60, 75])  # Different sizes for each point (which\n",
        "                                        # has only an aesthetic effect here,\n",
        "                                        # with no importance for the concept\n",
        "                                        # that is presented)"
      ],
      "metadata": {
        "id": "yFzuDTV0gVFZ"
      },
      "execution_count": 2,
      "outputs": []
    },
    {
      "cell_type": "code",
      "source": [
        "# Creating the model\n",
        "model = LinearRegression()\n",
        "model.fit(X, y)\n",
        "\n",
        "# Coefficients\n",
        "m = model.coef_[0]\n",
        "b = model.intercept_\n",
        "\n",
        "# Predictions\n",
        "predictions = model.predict(X)"
      ],
      "metadata": {
        "id": "XD7rbtZMgZ8H"
      },
      "execution_count": 3,
      "outputs": []
    },
    {
      "cell_type": "code",
      "source": [
        "# Displaying\n",
        "plt.scatter(X, y, color='darkblue', s=sizes)  # Real data\n",
        "plt.plot(X, predictions, color='red')  # Regression line\n",
        "plt.xlabel('X')\n",
        "plt.ylabel('y')\n",
        "plt.title('Linear Regression Example')\n",
        "plt.show()"
      ],
      "metadata": {
        "colab": {
          "base_uri": "https://localhost:8080/",
          "height": 472
        },
        "id": "ESFGhAzJX6Dy",
        "outputId": "09adca4c-4031-4ae9-eee3-9c3caf85b038"
      },
      "execution_count": 4,
      "outputs": [
        {
          "output_type": "display_data",
          "data": {
            "text/plain": [
              "<Figure size 640x480 with 1 Axes>"
            ],
            "image/png": "[encoded data removed]"
          },
          "metadata": {}
        }
      ]
    },
    {
      "cell_type": "markdown",
      "source": [
        "In this example, we generated a simple dataset and performed linear regression. The red line represents the best fit line, which minimizes the distance between the line and the data points.\n"
      ],
      "metadata": {
        "id": "KbhT-njGVWKa"
      }
    },
    {
      "cell_type": "markdown",
      "source": [
        "## 5. **Conclusion**\n",
        "\n",
        "The equation of a line is a fundamental tool in machine learning employed to model and predict relationships between variables. A thorough understanding of coefficient calculation and interpretation is essential for developing robust predictive models.\n",
        "\n",
        "This brief overview offers an introduction to linear regression in machine learning. Hands-on experience with real-world datasets and tools such as `scikit-learn` is crucial for solidifying one's grasp of the subject.\n"
      ],
      "metadata": {
        "id": "p72GvP2PYJvf"
      }
    },
    {
      "cell_type": "markdown",
      "source": [
        "## References:\n",
        "\n",
        "[1] https://eitca.org/artificial-intelligence/eitc-ai-mlp-machine-learning-with-python/programming-machine-learning/programming-the-best-fit-slope-programming-machine-learning/examination-review-programming-the-best-fit-slope-programming-machine-learning/what-is-the-equation-for-a-line-in-linear-regression/\n",
        "\n",
        "[2] https://www.spiceworks.com/tech/artificial-intelligence/articles/what-is-linear-regression/\n",
        "\n",
        "[3] https://www.geeksforgeeks.org/ml-linear-regression/\n",
        "\n",
        "[4] https://www.youtube.com/watch?v=AaUv2p0lSKU\n",
        "\n",
        "[5] https://www.youtube.com/watch?v=FqznGyvfiIM\n",
        "\n",
        "[6] https://developers.google.com/machine-learning/crash-course/linear-regression\n",
        "\n",
        "[7] https://towardsdatascience.com/mathematics-for-machine-learning-linear-regression-least-square-regression-de09cf53757c\n",
        "\n",
        "[8] https://eitca.org/artificial-intelligence/eitc-ai-mlp-machine-learning-with-python/programming-machine-learning/programming-the-best-fit-slope/examination-review-programming-the-best-fit-slope/what-is-the-equation-of-a-line-in-linear-regression-and-how-is-it-represented/\n"
      ],
      "metadata": {
        "id": "_2CkGfkepcdy"
      }
    }
  ]
}